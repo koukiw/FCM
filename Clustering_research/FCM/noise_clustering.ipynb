{
 "cells": [
  {
   "cell_type": "code",
   "execution_count": 8,
   "id": "58299c78-bd72-4a23-9d4e-7ae457ca847b",
   "metadata": {},
   "outputs": [],
   "source": [
    "import pandas as pd\n",
    "import numpy as np\n",
    "import matplotlib.pyplot as plt\n",
    "import csv\n",
    "\n",
    "#クラスタ数宣言\n",
    "c = 5\n",
    "#max繰り返し回数の宣言\n",
    "max_iter=100\n",
    "#dfをnumpyで扱えるnp.ndarray変換\n",
    "# df = pd.read_csv(\"../dataset/input.csv\",header=None)\n",
    "df = pd.read_csv(\"../dataset/noise_input.csv\",header=None)\n",
    "X = df.values\n",
    "# np.seterr(divide='ignore', invalid='ignore')\n",
    "#配列の行数、列数の格納\n",
    "X_size,n_features = X.shape\n",
    "#epsilonの定義(収束判定)\n",
    "epsilon=0.000001\n",
    "#前の中心と比較するために、仮に新しい重心を入れておく配列を用意\n",
    "new_v = np.zeros((c, n_features))\n",
    "#距離の格納 d_ki\n",
    "d=np.zeros((X_size,c+1))\n",
    "\n",
    "#通常のFCMにおけるクラス中心との距離(d[:,1:]）からsortして上位何個か取るとかのやり方でgamma設定してる\n",
    "# gamma = 0.04087646830643296\n",
    "# 有効半径をroot_gammaとしてる\n",
    "root_gamma = 0.1\n",
    "gamma = root_gamma**2\n",
    "d[:,0] = gamma\n",
    "\n",
    "m=3\n",
    "J=0\n",
    "best_J = 0\n",
    "#初期クラスタ中心"
   ]
  },
  {
   "cell_type": "code",
   "execution_count": 9,
   "id": "e8739e7b-9ee5-42ef-a2b8-a43c1f6aaf10",
   "metadata": {},
   "outputs": [],
   "source": [
    "#uの最適化部分関数作成\n",
    "def u_optimize_noise(d):\n",
    "    u = np.zeros((X_size,c+1))\n",
    "    for k in range(X_size):\n",
    "        #変数定義\n",
    "        #x_k != v_iの時\n",
    "        if 0 not in d[k]:\n",
    "            for i in range(c+1):\n",
    "                for j in range(c+1):\n",
    "                    u[k][i] = u[k][i] + (d[k][i]/d[k][j])**(1/(m-1))\n",
    "                u[k][i]=1/u[k][i]\n",
    "        #x_k=v_iの時\n",
    "        else:\n",
    "            for i in range(c):\n",
    "                if d[k][i]==0:\n",
    "                    u[k][i] = 1\n",
    "                else:\n",
    "                    u[k][i]=0\n",
    "    return u\n",
    "#クラスタ中心計算部分関数作成\n",
    "def v_calculation_noise(u_m):\n",
    "    u_except_noise = u_m[:,1:]\n",
    "    v = np.zeros((c,n_features))\n",
    "    #分母計算\n",
    "    v_denominator=np.sum(u_except_noise,axis=0)\n",
    "    #分子計算\n",
    "    v_numerator = np.zeros((c,n_features))\n",
    "    for i in range(c):\n",
    "        for k in range(X_size):\n",
    "            v_numerator[i]=v_numerator[i]+u_except_noise[k][i]*X[k]\n",
    "    for i in range(c):\n",
    "        v[i]= v_numerator[i]/v_denominator[i]\n",
    "    return v"
   ]
  },
  {
   "cell_type": "code",
   "execution_count": 10,
   "id": "19d695d3-f8bf-4681-9991-36a10a856898",
   "metadata": {
    "tags": []
   },
   "outputs": [
    {
     "name": "stdout",
     "output_type": "stream",
     "text": [
      "クラスター中心は\n",
      "[[0.70665307 0.50706257]\n",
      " [0.30922644 0.50041673]\n",
      " [0.5061238  0.69705204]\n",
      " [0.50557743 0.50677741]\n",
      " [0.50042077 0.30604422]]\n",
      "目的関数は0.017428842120260843\n",
      "[4 3 5 1 2 4 4 4 4 4 4 4 4 4 4 4 4 4 4 4 4 4 4 4 4 3 3 3 3 3 3 3 3 3 3 3 3\n",
      " 3 3 3 3 3 3 3 3 5 5 5 5 5 5 5 5 5 5 5 5 5 5 5 5 5 5 5 5 1 1 1 1 1 1 1 1 1\n",
      " 1 1 1 1 1 1 1 1 1 1 1 2 2 2 2 2 2 2 2 2 2 2 2 2 2 0 0 0 0 0 0 0]\n"
     ]
    },
    {
     "data": {
      "image/png": "[encoded data removed]",
      "text/plain": [
       "<Figure size 640x480 with 1 Axes>"
      ]
     },
     "metadata": {},
     "output_type": "display_data"
    }
   ],
   "source": [
    "#noiseアルゴリズム\n",
    "for s in range (50):\n",
    "    #初期クラスタ中心\n",
    "    v = X[np.random.choice(X_size,c)]\n",
    "    for epoch in range(max_iter):\n",
    "        for k in range(X_size):\n",
    "            # データから各重心までの距離の二乗を計算\n",
    "            d[k][1:] = np.sum((v - X[k]) ** 2, axis=1)\n",
    "        #uの更新\n",
    "        u = u_optimize_noise(d)\n",
    "        u_m=np.power(u,m)\n",
    "        #vの更新\n",
    "        new_v = v_calculation_noise(u_m)\n",
    "\n",
    "        #収束条件作成\n",
    "        for i in range(c):\n",
    "            v_difference = np.linalg.norm(new_v[i]-v[i], ord=2)\n",
    "        #収束判定\n",
    "        if v_difference.min() < epsilon:\n",
    "            # print(epoch,\"break\")\n",
    "            break\n",
    "        #値のリセット\n",
    "        v = np.copy(new_v)\n",
    "            \n",
    "    #目的関数の計算\n",
    "    J = np.sum(u_m[:,1:] * d[:,1:]) + np.sum(u_m[:,0] * (gamma)**2) \n",
    "    #目的関数の値が良いものに更新していく\n",
    "    if s==0 or J < best_J:\n",
    "        best_J = J\n",
    "        best_u = np.copy(u)\n",
    "        best_v = np.copy(new_v)\n",
    "        #帰属クラスターの決定と格納\n",
    "        cluster = np.argmax(best_u,axis=1)\n",
    "        \n",
    "print(\"クラスター中心は\")\n",
    "print(best_v)\n",
    "print(\"目的関数は\"+str(best_J))\n",
    "print(cluster)\n",
    "#matplotlibに描写(2次元データ)\n",
    "if n_features == 2:\n",
    "    colors = colors = ['red', 'blue', 'green','yellow','fuchsia',\"orange\"]\n",
    "\n",
    "    fig = plt.figure()\n",
    "    ax = fig.add_subplot(111)\n",
    "\n",
    "    for i in range(c+1):\n",
    "        ax.scatter(X[:, 0][cluster==i], X[:, 1][cluster==i], color=colors[i])\n",
    "\n",
    "    ax.set_title('fcm', size=16)\n",
    "    ax.set_xlabel(\"X\", size=14)\n",
    "    ax.set_ylabel(\"Y\", size=14)\n",
    "\n",
    "    plt.show()\n",
    "    # fig.savefig(\"fcm2d.pdf\")"
   ]
  },
  {
   "cell_type": "code",
   "execution_count": 172,
   "id": "6aea5066-5eb1-44e4-816a-fb749a64bc1a",
   "metadata": {},
   "outputs": [
    {
     "data": {
      "text/plain": [
       "array([0.04095694, 0.04527529, 0.04999365, 0.05511201, 0.06063037])"
      ]
     },
     "execution_count": 172,
     "metadata": {},
     "output_type": "execute_result"
    }
   ],
   "source": [
    "d_min = d[:,1:].min(axis = 1)\n",
    "d_min.sort()\n",
    "d_min[-5:]"
   ]
  },
  {
   "cell_type": "code",
   "execution_count": 156,
   "id": "47ca33a8-e881-47ad-bbdc-6e7f65b4a9d2",
   "metadata": {},
   "outputs": [
    {
     "data": {
      "text/plain": [
       "array([2.85618067e-07, 5.26041732e-07, 8.70469867e-07, 2.48834782e-06,\n",
       "       9.35938428e-06, 2.14473847e-05, 2.78625025e-05, 3.74927048e-05,\n",
       "       4.64018862e-05, 5.23310160e-05, 6.08875911e-05, 6.08875911e-05,\n",
       "       6.15009090e-05, 6.69119859e-05, 6.74403701e-05, 7.65922070e-05,\n",
       "       7.73713272e-05, 7.78336130e-05, 8.17273526e-05, 8.86614851e-05,\n",
       "       8.90775406e-05, 9.01094267e-05, 9.08850227e-05, 9.36005947e-05,\n",
       "       1.04115610e-04, 1.08168945e-04, 1.09153690e-04, 1.15701185e-04,\n",
       "       1.19342081e-04, 1.19665503e-04, 1.27551079e-04, 1.29540064e-04,\n",
       "       1.31586410e-04, 1.42664210e-04, 1.43880653e-04, 1.47953298e-04,\n",
       "       1.48668930e-04, 1.56190591e-04, 1.56365303e-04, 1.56752839e-04,\n",
       "       1.59189212e-04, 1.63380091e-04, 1.90295177e-04, 2.04393007e-04,\n",
       "       2.13932871e-04, 2.16114753e-04, 2.29194999e-04, 2.33515551e-04,\n",
       "       2.37354924e-04, 2.42816889e-04, 2.47583803e-04, 2.65711300e-04,\n",
       "       2.74799396e-04, 2.76695310e-04, 2.81487982e-04, 2.84458165e-04,\n",
       "       3.04829188e-04, 3.08629355e-04, 3.11378991e-04, 3.16062788e-04,\n",
       "       3.30257852e-04, 3.47198973e-04, 3.59020594e-04, 3.78024666e-04,\n",
       "       3.94044076e-04, 3.98523427e-04, 4.14065242e-04, 4.24500111e-04,\n",
       "       4.25125074e-04, 4.48439797e-04, 4.48640056e-04, 4.59498202e-04,\n",
       "       4.77115994e-04, 4.77885699e-04, 4.83083074e-04, 4.84100847e-04,\n",
       "       5.07595473e-04, 5.40286930e-04, 5.49776489e-04, 5.68027955e-04,\n",
       "       6.00188747e-04, 6.00595958e-04, 6.30605557e-04, 7.20288445e-04,\n",
       "       7.48209740e-04, 7.73187813e-04, 8.10182920e-04, 8.25308456e-04,\n",
       "       8.26654420e-04, 8.54019800e-04, 8.67832398e-04, 9.01318274e-04,\n",
       "       9.79759402e-04, 1.00082498e-03, 1.14553161e-03, 1.16816071e-03,\n",
       "       1.18189255e-03, 1.27248686e-03, 1.31513531e-03, 1.80968486e-02,\n",
       "       1.87244151e-02, 4.07683154e-02, 4.50759326e-02, 4.97835498e-02,\n",
       "       5.48911669e-02, 6.03987841e-02, 1.61347007e+00])"
      ]
     },
     "execution_count": 156,
     "metadata": {},
     "output_type": "execute_result"
    }
   ],
   "source": [
    "d_min"
   ]
  },
  {
   "cell_type": "code",
   "execution_count": 162,
   "id": "d0fce176-58cd-45a0-b879-db513f6f350b",
   "metadata": {},
   "outputs": [
    {
     "data": {
      "text/plain": [
       "0.04087646830643296"
      ]
     },
     "execution_count": 162,
     "metadata": {},
     "output_type": "execute_result"
    }
   ],
   "source": [
    "d_min[-6]"
   ]
  },
  {
   "cell_type": "code",
   "execution_count": null,
   "id": "edb8029e-de23-4366-be31-c567759a3370",
   "metadata": {},
   "outputs": [],
   "source": []
  }
 ],
 "metadata": {
  "kernelspec": {
   "display_name": "Python 3 (ipykernel)",
   "language": "python",
   "name": "python3"
  },
  "language_info": {
   "codemirror_mode": {
    "name": "ipython",
    "version": 3
   },
   "file_extension": ".py",
   "mimetype": "text/x-python",
   "name": "python",
   "nbconvert_exporter": "python",
   "pygments_lexer": "ipython3",
   "version": "3.9.16"
  }
 },
 "nbformat": 4,
 "nbformat_minor": 5
}
