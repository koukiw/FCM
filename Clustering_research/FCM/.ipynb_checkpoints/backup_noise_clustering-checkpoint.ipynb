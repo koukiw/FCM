{
 "cells": [
  {
   "cell_type": "code",
   "execution_count": 11,
   "id": "58299c78-bd72-4a23-9d4e-7ae457ca847b",
   "metadata": {},
   "outputs": [],
   "source": [
    "import pandas as pd\n",
    "import numpy as np\n",
    "import matplotlib.pyplot as plt\n",
    "import csv\n",
    "\n",
    "#クラスタ数宣言\n",
    "c = 5\n",
    "#max繰り返し回数の宣言\n",
    "max_iter=100\n",
    "#dfをnumpyで扱えるnp.ndarray変換\n",
    "df = pd.read_csv(\"../dataset/input.csv\",header=None)\n",
    "# df = pd.read_csv(\"../dataset/noise_input.csv\",header=None)\n",
    "X = df.values\n",
    "# np.seterr(divide='ignore', invalid='ignore')\n",
    "#配列の行数、列数の格納\n",
    "X_size,n_features = X.shape\n",
    "#epsilonの定義(収束判定)\n",
    "epsilon=0.000001\n",
    "#前の中心と比較するために、仮に新しい重心を入れておく配列を用意\n",
    "new_v = np.zeros((c, n_features))\n",
    "#距離の格納 d_ki\n",
    "d=np.zeros((X_size,c))\n",
    "\n",
    "gamma = 0.07\n",
    "\n",
    "m=3\n",
    "J=0\n",
    "best_J = 0\n",
    "#初期クラスタ中心"
   ]
  },
  {
   "cell_type": "code",
   "execution_count": 12,
   "id": "e8739e7b-9ee5-42ef-a2b8-a43c1f6aaf10",
   "metadata": {},
   "outputs": [],
   "source": [
    "#uの最適化部分関数作成\n",
    "def u_optimize(d):\n",
    "    u = np.zeros((X_size,c))\n",
    "    for k in range(X_size):\n",
    "        #変数定義\n",
    "        #x_k != v_iの時\n",
    "        if 0 not in d[k]:\n",
    "            for i in range(c):\n",
    "                for j in range(c):\n",
    "                    u[k][i] = u[k][i] + (d[k][i]/d[k][j])**(1/(m-1))\n",
    "                u[k][i]=1/u[k][i]\n",
    "        #x_k=v_iの時\n",
    "        else:\n",
    "            for i in range(c):\n",
    "                if d[k][i]==0:\n",
    "                    u[k][i] = 1\n",
    "                else:\n",
    "                    u[k][i]=0\n",
    "    return u\n",
    "#クラスタ中心計算部分関数作成\n",
    "def v_calculation(u_m):\n",
    "    v = np.zeros((c,n_features))\n",
    "    #分母計算\n",
    "    v_denominator=np.sum(u_m,axis=0)\n",
    "    #分子計算\n",
    "    v_numerator = np.zeros((c,n_features))\n",
    "    for i in range(c):\n",
    "        for k in range(X_size):\n",
    "            v_numerator[i]=v_numerator[i]+u_m[k][i]*X[k]\n",
    "    for i in range(c):\n",
    "        v[i]= v_numerator[i]/v_denominator[i]\n",
    "    return v"
   ]
  },
  {
   "cell_type": "code",
   "execution_count": 13,
   "id": "19d695d3-f8bf-4681-9991-36a10a856898",
   "metadata": {
    "tags": []
   },
   "outputs": [
    {
     "name": "stdout",
     "output_type": "stream",
     "text": [
      "クラスター中心は\n",
      "[[0.50474184 0.50645811]\n",
      " [0.50517809 0.69697054]\n",
      " [0.70629741 0.50596278]\n",
      " [0.5000234  0.30542744]\n",
      " [0.30756686 0.50063523]]\n",
      "目的関数は0.018480621987977515\n",
      "[0 1 3 2 4 0 0 0 0 0 0 0 0 0 0 0 0 0 0 0 0 0 0 0 0 1 1 1 1 1 1 1 1 1 1 1 1\n",
      " 1 1 1 1 1 1 1 1 3 3 3 3 3 3 3 3 3 3 3 3 3 3 3 3 3 3 3 3 2 2 2 2 2 2 2 2 2\n",
      " 2 2 2 2 2 2 2 2 2 2 2 4 4 4 4 4 4 4 4 4 4 4 4 4 4]\n"
     ]
    },
    {
     "data": {
      "image/png": "[encoded data removed]",
      "text/plain": [
       "<Figure size 640x480 with 1 Axes>"
      ]
     },
     "metadata": {},
     "output_type": "display_data"
    }
   ],
   "source": [
    "#FCMアルゴリズム\n",
    "for s in range (10):\n",
    "    #初期クラスタ中心\n",
    "    v = X[np.random.choice(X_size,c)]\n",
    "    for epoch in range(max_iter):\n",
    "        for k in range(X_size):\n",
    "            # データから各重心までの距離の二乗を計算\n",
    "            d[k] = np.sum((v - X[k]) ** 2, axis=1)\n",
    "        #uの更新\n",
    "        u = u_optimize(d)\n",
    "        u_m=np.power(u,m)\n",
    "        #vの更新\n",
    "        new_v = v_calculation(u_m)\n",
    "\n",
    "        #収束条件作成\n",
    "        for i in range(c):\n",
    "            v_difference = np.linalg.norm(new_v[i]-v[i], ord=2)\n",
    "        #収束判定\n",
    "        if v_difference.min() < epsilon:\n",
    "            # print(epoch,\"break\")\n",
    "            break\n",
    "        #値のリセット\n",
    "        v = np.copy(new_v)\n",
    "            \n",
    "    #目的関数の計算\n",
    "    J = np.sum(u_m * d)\n",
    "    #目的関数の値が良いものに更新していく\n",
    "    if s==0 or J < best_J:\n",
    "        best_J = J\n",
    "        best_u = np.copy(u)\n",
    "        best_v = np.copy(new_v)\n",
    "        #帰属クラスターの決定と格納\n",
    "        cluster = np.argmax(best_u,axis=1)\n",
    "        \n",
    "print(\"クラスター中心は\")\n",
    "print(best_v)\n",
    "print(\"目的関数は\"+str(best_J))\n",
    "print(cluster)\n",
    "#matplotlibに描写(2次元データ)\n",
    "if n_features == 2:\n",
    "    colors = ['red', 'blue', 'green','yellow','fuchsia']\n",
    "\n",
    "    fig = plt.figure()\n",
    "    ax = fig.add_subplot(111)\n",
    "\n",
    "    for i in range(c):\n",
    "        ax.scatter(X[:, 0][cluster==i], X[:, 1][cluster==i], color=colors[i])\n",
    "\n",
    "    ax.set_title('fcm', size=16)\n",
    "    ax.set_xlabel(\"X\", size=14)\n",
    "    ax.set_ylabel(\"Y\", size=14)\n",
    "\n",
    "    plt.show()\n",
    "    # fig.savefig(\"fcm2d.pdf\")"
   ]
  },
  {
   "cell_type": "code",
   "execution_count": 352,
   "id": "96949484-4c5c-48fe-9b2a-3cbe2d40d072",
   "metadata": {},
   "outputs": [
    {
     "data": {
      "text/plain": [
       "0.06006915556512917"
      ]
     },
     "execution_count": 352,
     "metadata": {},
     "output_type": "execute_result"
    }
   ],
   "source": [
    "d.min(axis = 1).max()"
   ]
  }
 ],
 "metadata": {
  "kernelspec": {
   "display_name": "Python 3 (ipykernel)",
   "language": "python",
   "name": "python3"
  },
  "language_info": {
   "codemirror_mode": {
    "name": "ipython",
    "version": 3
   },
   "file_extension": ".py",
   "mimetype": "text/x-python",
   "name": "python",
   "nbconvert_exporter": "python",
   "pygments_lexer": "ipython3",
   "version": "3.9.16"
  }
 },
 "nbformat": 4,
 "nbformat_minor": 5
}
